{
 "cells": [
  {
   "cell_type": "code",
   "execution_count": null,
   "id": "initial_id",
   "metadata": {
    "collapsed": true
   },
   "outputs": [],
   "source": [
    "!git clone https://github.com/devandrepascoa/PhyloLearnProject.git\n",
    "!cd PhyloLearnProject/Diffusion-Models-pytorch/"
   ]
  },
  {
   "cell_type": "code",
   "outputs": [],
   "source": [
    "!pip install virtualenv\n",
    "!virtualenv \"env\" # To set up the env\n",
    "\n",
    "!source /content/env/bin/activate; pip install -r PhyloLearnProject/Diffusion-Models-pytorch/requirements.txt"
   ],
   "metadata": {
    "collapsed": false
   },
   "id": "2a5d692fb59400fd"
  },
  {
   "cell_type": "code",
   "outputs": [],
   "source": [
    "!source /content/env/bin/activate; python PhyloLearnProject/Diffusion-Models-pytorch/ddpm.py"
   ],
   "metadata": {
    "collapsed": false
   },
   "id": "300daf305282246e"
  }
 ],
 "metadata": {
  "kernelspec": {
   "display_name": "Python 3",
   "language": "python",
   "name": "python3"
  },
  "language_info": {
   "codemirror_mode": {
    "name": "ipython",
    "version": 2
   },
   "file_extension": ".py",
   "mimetype": "text/x-python",
   "name": "python",
   "nbconvert_exporter": "python",
   "pygments_lexer": "ipython2",
   "version": "2.7.6"
  }
 },
 "nbformat": 4,
 "nbformat_minor": 5
}
